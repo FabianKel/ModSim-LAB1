{
 "cells": [
  {
   "cell_type": "markdown",
   "id": "8b7f6c65",
   "metadata": {},
   "source": [
    "## **Ejercicio 2**"
   ]
  },
  {
   "cell_type": "markdown",
   "id": "7603cff2",
   "metadata": {},
   "source": [
    "### **Teoría**"
   ]
  },
  {
   "cell_type": "markdown",
   "id": "efd7fba5",
   "metadata": {},
   "source": [
    "1. Describa cómo los bucles de retroalimentación crean:\n",
    "    - Crecimiento exponencial (bucle de refuerzo)\n",
    "    - Equilibrio (bucle de equilibrio)"
   ]
  },
  {
   "cell_type": "markdown",
   "id": "3b05bedb",
   "metadata": {},
   "source": [
    "2. Analice el modelo epidémico SIR:\n",
    "    - Etiquete todos los stocks/flujos del sistema.\n",
    "    - Identifique los bucles de retroalimentación que rigen la propagación de la infección."
   ]
  },
  {
   "cell_type": "markdown",
   "id": "1d5c9c51",
   "metadata": {},
   "source": [
    "3. Explique por qué los sistemas no lineales (p. ej., Flujo= βSI) requiere simulación numérica"
   ]
  },
  {
   "cell_type": "markdown",
   "id": "310c04de",
   "metadata": {},
   "source": [
    "### **Práctica**"
   ]
  },
  {
   "cell_type": "markdown",
   "id": "bf7bcb12",
   "metadata": {},
   "source": [
    "Modele una epidemia con vacunación utilizando el marco SIR.\n",
    "Instrucciones\n",
    "1. Analice el modelo epidémico SIR:\n",
    "    - Stocks: Susceptibles (S), Infectados (I), Recuperados (R)\n",
    "    - Flujos: Infección (βSI), Recuperación (γI), Vacunación (vS)\n",
    "    - Parámetros: β = 0,3, γ = 0,1, v = 0,05\n",
    "2. Requisitos:\n",
    "    - Simular durante 180 días con Δt = 0.5 días\n",
    "    - Gráficar S(t), I(t) y R(t) a lo largo del tiempo.\n",
    "    - Variar v (de 0 a 0,1) y describir su impacto en el pico de infecciones.\n",
    "3. Considere y responda\n",
    "    - ¿Cómo altera la vacunación los ciclos de retroalimentación?\n",
    "    - ¿Cuál es el valor mínimo de v para prevenir un brote?"
   ]
  }
 ],
 "metadata": {
  "language_info": {
   "name": "python"
  }
 },
 "nbformat": 4,
 "nbformat_minor": 5
}
