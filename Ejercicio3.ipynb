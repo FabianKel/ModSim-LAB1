{
 "cells": [
  {
   "cell_type": "markdown",
   "id": "c0e38959",
   "metadata": {},
   "source": [
    "## **Ejercicio 3**"
   ]
  },
  {
   "cell_type": "markdown",
   "id": "972c51a9",
   "metadata": {},
   "source": [
    "### **Teoría**"
   ]
  },
  {
   "cell_type": "markdown",
   "id": "72e1e4b7",
   "metadata": {},
   "source": [
    "1. Compare críticamente:\n",
    "    - Método de Euler vs. Runge-Kutta para la integración\n",
    "        - Contrate la estabilidad de ambos métodos y cómo el tamaño del paso afecta a la estabilidad\n",
    "    - Compensación entre precisión y coste computacional."
   ]
  },
  {
   "cell_type": "markdown",
   "id": "6316a5b9",
   "metadata": {},
   "source": [
    "2. Explique cómo los retrasos en los ciclos de retroalimentación (p. ej., el retraso en las pruebas durante epidemias) afectan el comportamiento del sistema."
   ]
  },
  {
   "cell_type": "markdown",
   "id": "902b3183",
   "metadata": {},
   "source": [
    "3. Proponga un modelo de stock-flujo para:\n",
    "    - Capacidad hospitalaria durante una epidemia.\n",
    "    - Incluir las camas de UCI como stock y los ingresos/altas como flujos."
   ]
  },
  {
   "cell_type": "markdown",
   "id": "72f4afb0",
   "metadata": {},
   "source": [
    "4. Para el Método de Euler\n",
    "    - Indique cómo se define el error local de truncamiento\n",
    "    - Enumere dos ventajas y desventajas del método\n",
    "    - Explique el algoritmo"
   ]
  },
  {
   "cell_type": "markdown",
   "id": "7688e3d5",
   "metadata": {},
   "source": [
    "5. Para el método de Runge-Kutta (RK4):\n",
    "    - Explique el algoritmo y principalmente los cuatro pasos intermedios\n",
    "    - Compare el error global con el de Euler\n",
    "    - ¿Cuándo vale la pena utilizar RK4 considerando el costo computacional?"
   ]
  },
  {
   "cell_type": "markdown",
   "id": "6f217fc2",
   "metadata": {},
   "source": [
    "### **Práctica**"
   ]
  },
  {
   "cell_type": "markdown",
   "id": "6cddddfb",
   "metadata": {},
   "source": [
    "Compare los métodos numéricos (Euler y RK4) para resolver un sistema no lineal\n",
    "Instrucciones:\n",
    "1. Implemente ambos métodos para:\n",
    "    - Modelo de crecimiento logístico\n",
    "    - Parámetros: r=0.1, K=1000, x₀=10\n",
    "    - Horizonte de tiempo: 100 unidades\n",
    "2. Analice y compare\n",
    "    - Error relativo en t=50 para Δt=1.0\n",
    "    - Threshold entre tiempo de cómputo y precisión\n",
    "    - Estabilidad con Δt grandes (>5.0)\n",
    "3. Considere y responda:\n",
    "    - ¿Qué método mantiene mejor la estabilidad?\n",
    "    - ¿Cómo escala el error con Δt en cada método?\n",
    "    - ¿Cuándo convendría elegir Euler en lugar de RK4?"
   ]
  }
 ],
 "metadata": {
  "language_info": {
   "name": "python"
  }
 },
 "nbformat": 4,
 "nbformat_minor": 5
}
