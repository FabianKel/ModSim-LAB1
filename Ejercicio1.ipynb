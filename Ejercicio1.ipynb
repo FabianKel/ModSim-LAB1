{
 "cells": [
  {
   "cell_type": "markdown",
   "id": "03957f07",
   "metadata": {},
   "source": [
    "## **Ejercicio 1**"
   ]
  },
  {
   "cell_type": "markdown",
   "id": "c92be559",
   "metadata": {},
   "source": [
    "### **Teoría**"
   ]
  },
  {
   "cell_type": "markdown",
   "id": "09e056ff",
   "metadata": {},
   "source": [
    "1. Defina de teoricamente los siguientes términos de forma clara\n",
    "    - Stock\n",
    "    - Flujo\n",
    "    - Bucle de retroalimentación"
   ]
  },
  {
   "cell_type": "markdown",
   "id": "a1a0cff5",
   "metadata": {},
   "source": [
    "2. Defina con notación matemática y explique lo siguiente\n",
    "    - Ecuación de acumulación de stock\n",
    "    - Análisis dimensional de tasa de flujo\n",
    "    - Forma de solución de decaimiento exponencial"
   ]
  },
  {
   "cell_type": "markdown",
   "id": "79c8d419",
   "metadata": {},
   "source": [
    "3. Compare y explique las diferencias de:\n",
    "    - Modelado de tiempo contínuo vs modelado de tiempo discreto\n",
    "    - Retroalimentación balanceada vs reforzada"
   ]
  },
  {
   "cell_type": "markdown",
   "id": "bdaf72c8",
   "metadata": {},
   "source": [
    "4. Interprete el significado de la constante de tiempo τ=1/α en sistemas del mundo real (por ejemplo,descomposición de la población, metabolismo de fármacos)."
   ]
  },
  {
   "cell_type": "markdown",
   "id": "ae55e34e",
   "metadata": {},
   "source": [
    "### **Práctica**\n",
    "Simule una disminución de la población debido a una tasa de mortalidad constante.\n",
    "Instrucciones:\n",
    "1. Implemente un modelo de stock-flujo donde:\n",
    "    - Población Inicial: S0 = 1,000\n",
    "    - Tasa de Mortalidad: α=0.1month−1\n",
    "    - Horizonte de tiempo: 24 meses\n",
    "2. Requerimientos\n",
    "    - Utilice la integración de Euler (pasos de tiempo discretos) con Δt=0.1 meses\n",
    "    - Compare con la solución analítica S(t) = S0e−αt\n",
    "    - Grafique ambas soluciones en el mismo gráfico.\n",
    "3. Consider y responda\n",
    "    - ¿Cómo afecta un Δt menor a la precisión?\n",
    "    - ¿Qué ocurre si un Δt es demasiado grande (p. ej., Δt = 5 meses)?\n"
   ]
  }
 ],
 "metadata": {
  "language_info": {
   "name": "python"
  }
 },
 "nbformat": 4,
 "nbformat_minor": 5
}
